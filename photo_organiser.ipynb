{
 "cells": [
  {
   "cell_type": "code",
   "execution_count": 1,
   "metadata": {},
   "outputs": [],
   "source": [
    "import exifread\n",
    "from datetime import datetime\n",
    "from pathlib import Path\n",
    "import shutil"
   ]
  },
  {
   "cell_type": "code",
   "execution_count": 3,
   "metadata": {},
   "outputs": [
    {
     "name": "stdout",
     "output_type": "stream",
     "text": [
      "Task Completed\n"
     ]
    }
   ],
   "source": [
    "rootdir = Path(r'path\\to\\destination\\folder')\n",
    "photo_location = Path(r'path\\to\\source\\folder')\n",
    "\n",
    "for file in photo_location.iterdir():\n",
    "    try:\n",
    "        if file.suffix == '.jpg' or file.suffix == '.JPG':\n",
    "            with open(file, 'rb') as f:\n",
    "                tags = exifread.process_file(f, details=False, stop_tag='DateTimeOriginal')\n",
    "            if \"EXIF DateTimeOriginal\" in tags.keys():\n",
    "                datetaken = datetime.strptime(tags['EXIF DateTimeOriginal'].values, '%Y:%m:%d %H:%M:%S')\n",
    "                yearfolder = rootdir / str(datetaken.year)\n",
    "                monthfolder = yearfolder / datetaken.strftime('%b')\n",
    "                if not yearfolder.exists():\n",
    "                    yearfolder.mkdir()\n",
    "                if not monthfolder.exists():\n",
    "                    monthfolder.mkdir()\n",
    "                if not (monthfolder / file.name).exists():\n",
    "                    shutil.move(str(file), str(monthfolder))\n",
    "    except Exception as e:\n",
    "        print(e)\n",
    "        continue\n",
    "\n",
    "print(\"Task Completed\")"
   ]
  }
 ],
 "metadata": {
  "kernelspec": {
   "display_name": "Python 3",
   "language": "python",
   "name": "python3"
  },
  "language_info": {
   "codemirror_mode": {
    "name": "ipython",
    "version": 3
   },
   "file_extension": ".py",
   "mimetype": "text/x-python",
   "name": "python",
   "nbconvert_exporter": "python",
   "pygments_lexer": "ipython3",
   "version": "3.8.5"
  }
 },
 "nbformat": 4,
 "nbformat_minor": 4
}
